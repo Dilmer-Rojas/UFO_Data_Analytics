{
 "cells": [
  {
   "cell_type": "markdown",
   "metadata": {},
   "source": [
    "# 4️⃣ Exploración y Análisis Descriptivo\n",
    "📌 ¿Qué nos dicen los datos?\n",
    "\n",
    "Calcular métricas básicas (media, mediana, moda, percentiles).\n",
    "\n",
    "Identificar distribuciones y tendencias.\n",
    "\n",
    "Visualizar con histogramas, gráficos de dispersión, boxplots, etc.\n"
   ]
  },
  {
   "cell_type": "code",
   "execution_count": null,
   "metadata": {
    "vscode": {
     "languageId": "plaintext"
    }
   },
   "outputs": [],
   "source": []
  }
 ],
 "metadata": {
  "language_info": {
   "name": "python"
  }
 },
 "nbformat": 4,
 "nbformat_minor": 2
}
