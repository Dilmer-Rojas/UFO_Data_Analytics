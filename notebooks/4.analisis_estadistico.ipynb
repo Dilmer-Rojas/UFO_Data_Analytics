{
 "cells": [
  {
   "cell_type": "markdown",
   "metadata": {},
   "source": [
    "# 4️⃣ Exploración y Análisis Descriptivo\n",
    "📌 ¿Qué nos dicen los datos?\n",
    "\n",
    "Calcular métricas básicas (media, mediana, moda, percentiles).\n",
    "Identificar distribuciones y tendencias.\n",
    "Visualizar con histogramas, gráficos de dispersión, boxplots, etc.\n",
    "Como no nos sirve de nada calcular métricas básicas por ello vamos a responder las preguntas que nos planteamos y queremos responder con el análisis\n",
    "📌 ¿Qué país tiene más filmes estrenados?\n",
    "\n",
    "📌 Ver los cinco años en los que se estrenaron más filmes.\n",
    "\n",
    "📌 Identificar cual es el género con más filmes.\n",
    "\n",
    "📌 Determinar cual es el género con mayor promedio de calificación o nota o valoración.\n",
    "\n",
    "📌 Determinar cual tipo de filme es mejor."
   ]
  }
 ],
 "metadata": {
  "language_info": {
   "name": "python"
  }
 },
 "nbformat": 4,
 "nbformat_minor": 2
}
