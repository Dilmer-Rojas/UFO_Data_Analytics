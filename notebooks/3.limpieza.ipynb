{
 "cells": [
  {
   "cell_type": "markdown",
   "metadata": {},
   "source": [
    "## Limpieza de la data"
   ]
  },
  {
   "cell_type": "markdown",
   "metadata": {},
   "source": [
    "#### Primero vamos a elmininar la copia.db"
   ]
  },
  {
   "cell_type": "code",
   "execution_count": 2,
   "metadata": {},
   "outputs": [
    {
     "name": "stdout",
     "output_type": "stream",
     "text": [
      "Base de datos eliminada exitosamente.\n"
     ]
    }
   ],
   "source": [
    "import os\n",
    "\n",
    "# Nombre del archivo de la base de datos\n",
    "db_file = \"../data/processed/copia.db\"\n",
    "\n",
    "# Verificar si existe y eliminarlo\n",
    "if os.path.exists(db_file):\n",
    "    os.remove(db_file)\n",
    "    print(\"Base de datos eliminada exitosamente.\")\n",
    "else:\n",
    "    print(\"El archivo de la base de datos no existe.\")"
   ]
  },
  {
   "cell_type": "code",
   "execution_count": 3,
   "metadata": {},
   "outputs": [],
   "source": [
    "import pandas as pd\n",
    "import sqlite3"
   ]
  },
  {
   "cell_type": "code",
   "execution_count": 4,
   "metadata": {},
   "outputs": [
    {
     "name": "stdout",
     "output_type": "stream",
     "text": [
      "✅ Datos cargados\n"
     ]
    },
    {
     "name": "stderr",
     "output_type": "stream",
     "text": [
      "C:\\Users\\harri\\AppData\\Local\\Temp\\ipykernel_14340\\2705268744.py:2: DtypeWarning: Columns (5,9) have mixed types. Specify dtype option on import or set low_memory=False.\n",
      "  df = pd.read_csv(\"../data/raw/ufo_data.csv\")\n"
     ]
    }
   ],
   "source": [
    "# Cargar datos\n",
    "df = pd.read_csv(\"../data/raw/ufo_data.csv\")\n",
    "print(\"✅ Datos cargados\")"
   ]
  },
  {
   "cell_type": "code",
   "execution_count": 5,
   "metadata": {},
   "outputs": [
    {
     "name": "stdout",
     "output_type": "stream",
     "text": [
      "✅ Base de datos creada correctamente...\n"
     ]
    }
   ],
   "source": [
    "# Crearemos una conexión sqlite3\n",
    "conexion = sqlite3.connect(\"../data/raw/ufo_data.db\")\n",
    "\n",
    "# Guardar el dataframe como tabla SQLite\n",
    "df.to_sql(\"ufo_table\", conexion, if_exists=\"replace\", index=False) \n",
    "# El index col se usa para eliminar el Unnamed\n",
    "\n",
    "print(\"✅ Base de datos creada correctamente...\")\n",
    "\n",
    "cursor = conexion.cursor()"
   ]
  },
  {
   "cell_type": "code",
   "execution_count": 6,
   "metadata": {},
   "outputs": [
    {
     "name": "stdout",
     "output_type": "stream",
     "text": [
      "✅ Copia de la BD creada correctamente...\n"
     ]
    }
   ],
   "source": [
    "# Crear una copia de la db\n",
    "copia = \"../data/processed/copia.db\"\n",
    "\n",
    "consulta = f\"\"\"\n",
    "ATTACH DATABASE '{copia}' AS copia;\n",
    "SELECT sql FROM sqlite_master WHERE type='table';\n",
    "\"\"\"\n",
    "cursor.executescript(consulta)\n",
    "\n",
    "# Copiar las tablas a la base de datos de respaldo\n",
    "cursor.execute(\"SELECT name FROM sqlite_master WHERE type='table';\")\n",
    "tablas = cursor.fetchall()\n",
    "\n",
    "for tabla in tablas:\n",
    "    nombre_tabla = tabla[0]\n",
    "    consulta_copia = f\"CREATE TABLE copia.{nombre_tabla} AS SELECT * FROM {nombre_tabla};\"\n",
    "    cursor.execute(consulta_copia)\n",
    "\n",
    "print(\"✅ Copia de la BD creada correctamente...\")\n",
    "# Ya no volver a ejecutar esto\n",
    "# Si lo hacemos primero hay que cerrar la conexión\n",
    "# Y luego hay que eliminar el archivo copia.db"
   ]
  },
  {
   "cell_type": "markdown",
   "metadata": {},
   "source": [
    "Lo que haremos en esta fase:\n",
    "\n",
    "2. Ahora si procedemos hacer la limpieza:\n",
    "\n",
    "    ✅ Datos faltantes (Nulos).\n",
    "    \n",
    "    ✅ Registros duplicados.\n",
    "    \n",
    "    ✅ Formatos inconsistentes (fechas, nombres, números).\n",
    "    \n",
    "    ✅ Valores atípicos (outliers)."
   ]
  },
  {
   "cell_type": "markdown",
   "metadata": {},
   "source": [
    "### ✅ Manejar Datos Faltantes (Nulos)"
   ]
  },
  {
   "cell_type": "code",
   "execution_count": 7,
   "metadata": {},
   "outputs": [
    {
     "name": "stdout",
     "output_type": "stream",
     "text": [
      "Valores reemplazados con éxito\n"
     ]
    }
   ],
   "source": [
    "# Reemplazar Nulos\n",
    "consulta = \"\"\"\n",
    "           UPDATE copia.ufo_table\n",
    "           SET\n",
    "               state = COALESCE(state, \"Desconocido\"),\n",
    "               country = COALESCE(country, \"Desconocido\"),\n",
    "               shape = COALESCE(shape, \"No especificado\"),\n",
    "               comments = COALESCE(comments, \"Sin comentarios\")\n",
    "           \"\"\"\n",
    "conexion.execute(consulta)\n",
    "conexion.commit()\n",
    "print(\"Valores reemplazados con éxito\")"
   ]
  },
  {
   "cell_type": "code",
   "execution_count": 8,
   "metadata": {},
   "outputs": [
    {
     "data": {
      "text/html": [
       "<div>\n",
       "<style scoped>\n",
       "    .dataframe tbody tr th:only-of-type {\n",
       "        vertical-align: middle;\n",
       "    }\n",
       "\n",
       "    .dataframe tbody tr th {\n",
       "        vertical-align: top;\n",
       "    }\n",
       "\n",
       "    .dataframe thead th {\n",
       "        text-align: right;\n",
       "    }\n",
       "</style>\n",
       "<table border=\"1\" class=\"dataframe\">\n",
       "  <thead>\n",
       "    <tr style=\"text-align: right;\">\n",
       "      <th></th>\n",
       "      <th>cid</th>\n",
       "      <th>name</th>\n",
       "      <th>type</th>\n",
       "      <th>notnull</th>\n",
       "      <th>dflt_value</th>\n",
       "      <th>pk</th>\n",
       "    </tr>\n",
       "  </thead>\n",
       "  <tbody>\n",
       "    <tr>\n",
       "      <th>0</th>\n",
       "      <td>0</td>\n",
       "      <td>datetime</td>\n",
       "      <td>TEXT</td>\n",
       "      <td>0</td>\n",
       "      <td>None</td>\n",
       "      <td>0</td>\n",
       "    </tr>\n",
       "    <tr>\n",
       "      <th>1</th>\n",
       "      <td>1</td>\n",
       "      <td>city</td>\n",
       "      <td>TEXT</td>\n",
       "      <td>0</td>\n",
       "      <td>None</td>\n",
       "      <td>0</td>\n",
       "    </tr>\n",
       "    <tr>\n",
       "      <th>2</th>\n",
       "      <td>2</td>\n",
       "      <td>state</td>\n",
       "      <td>TEXT</td>\n",
       "      <td>0</td>\n",
       "      <td>None</td>\n",
       "      <td>0</td>\n",
       "    </tr>\n",
       "    <tr>\n",
       "      <th>3</th>\n",
       "      <td>3</td>\n",
       "      <td>country</td>\n",
       "      <td>TEXT</td>\n",
       "      <td>0</td>\n",
       "      <td>None</td>\n",
       "      <td>0</td>\n",
       "    </tr>\n",
       "    <tr>\n",
       "      <th>4</th>\n",
       "      <td>4</td>\n",
       "      <td>shape</td>\n",
       "      <td>TEXT</td>\n",
       "      <td>0</td>\n",
       "      <td>None</td>\n",
       "      <td>0</td>\n",
       "    </tr>\n",
       "    <tr>\n",
       "      <th>5</th>\n",
       "      <td>5</td>\n",
       "      <td>duration (seconds)</td>\n",
       "      <td>TEXT</td>\n",
       "      <td>0</td>\n",
       "      <td>None</td>\n",
       "      <td>0</td>\n",
       "    </tr>\n",
       "    <tr>\n",
       "      <th>6</th>\n",
       "      <td>6</td>\n",
       "      <td>duration (hours/min)</td>\n",
       "      <td>TEXT</td>\n",
       "      <td>0</td>\n",
       "      <td>None</td>\n",
       "      <td>0</td>\n",
       "    </tr>\n",
       "    <tr>\n",
       "      <th>7</th>\n",
       "      <td>7</td>\n",
       "      <td>comments</td>\n",
       "      <td>TEXT</td>\n",
       "      <td>0</td>\n",
       "      <td>None</td>\n",
       "      <td>0</td>\n",
       "    </tr>\n",
       "    <tr>\n",
       "      <th>8</th>\n",
       "      <td>8</td>\n",
       "      <td>date posted</td>\n",
       "      <td>TEXT</td>\n",
       "      <td>0</td>\n",
       "      <td>None</td>\n",
       "      <td>0</td>\n",
       "    </tr>\n",
       "    <tr>\n",
       "      <th>9</th>\n",
       "      <td>9</td>\n",
       "      <td>latitude</td>\n",
       "      <td>TEXT</td>\n",
       "      <td>0</td>\n",
       "      <td>None</td>\n",
       "      <td>0</td>\n",
       "    </tr>\n",
       "    <tr>\n",
       "      <th>10</th>\n",
       "      <td>10</td>\n",
       "      <td>longitude</td>\n",
       "      <td>REAL</td>\n",
       "      <td>0</td>\n",
       "      <td>None</td>\n",
       "      <td>0</td>\n",
       "    </tr>\n",
       "  </tbody>\n",
       "</table>\n",
       "</div>"
      ],
      "text/plain": [
       "    cid                  name  type  notnull dflt_value  pk\n",
       "0     0              datetime  TEXT        0       None   0\n",
       "1     1                  city  TEXT        0       None   0\n",
       "2     2                 state  TEXT        0       None   0\n",
       "3     3               country  TEXT        0       None   0\n",
       "4     4                 shape  TEXT        0       None   0\n",
       "5     5    duration (seconds)  TEXT        0       None   0\n",
       "6     6  duration (hours/min)  TEXT        0       None   0\n",
       "7     7              comments  TEXT        0       None   0\n",
       "8     8           date posted  TEXT        0       None   0\n",
       "9     9              latitude  TEXT        0       None   0\n",
       "10   10            longitude   REAL        0       None   0"
      ]
     },
     "execution_count": 8,
     "metadata": {},
     "output_type": "execute_result"
    }
   ],
   "source": [
    "nombre_columnas = \"PRAGMA table_info(ufo_table);\"\n",
    "nombre_columnas = pd.read_sql_query(nombre_columnas, conexion)\n",
    "nombre_columnas"
   ]
  },
  {
   "cell_type": "markdown",
   "metadata": {},
   "source": [
    "### ✅ Manejar registros duplicados"
   ]
  },
  {
   "cell_type": "code",
   "execution_count": 9,
   "metadata": {},
   "outputs": [
    {
     "name": "stdout",
     "output_type": "stream",
     "text": [
      "Duplicados eliminados con éxito\n"
     ]
    }
   ],
   "source": [
    "# Eliminar duplicados\n",
    "eliminar = \"\"\"\n",
    "           WITH cte AS (\n",
    "                SELECT ROWID, ROW_NUMBER() OVER(PARTITION BY datetime, city, state, country, shape) AS num_fila\n",
    "                FROM copia.ufo_table\n",
    "           )\n",
    "           DELETE FROM copia.ufo_table\n",
    "           WHERE ROWID IN (\n",
    "               SELECT ROWID FROM cte WHERE num_fila > 1\n",
    "           );\n",
    "           \"\"\"\n",
    "conexion.execute(eliminar)\n",
    "conexion.commit()\n",
    "print(\"Duplicados eliminados con éxito\")"
   ]
  },
  {
   "cell_type": "markdown",
   "metadata": {},
   "source": [
    "### ✅ Normalizar los tipos de datos (Fechas, numeros)"
   ]
  },
  {
   "cell_type": "code",
   "execution_count": 10,
   "metadata": {},
   "outputs": [
    {
     "name": "stdout",
     "output_type": "stream",
     "text": [
      "Datos normalizados con éxito\n"
     ]
    }
   ],
   "source": [
    "# Convertir datetime de TEXT a DATETIME(ya que es fecha y hora, si fuera solo fecha sería DATE y si solo fuera hora sería TIME)\n",
    "# Convertir duration seconds de TEXT a REAL\n",
    "formatear = \"\"\"\n",
    "            UPDATE copia.ufo_table\n",
    "            SET `duration (seconds)` = CAST(`duration (seconds)` AS REAL)\n",
    "            ;\n",
    "            \"\"\"\n",
    "conexion.execute(formatear)\n",
    "conexion.commit()\n",
    "print(\"Datos normalizados con éxito\")"
   ]
  },
  {
   "cell_type": "code",
   "execution_count": 11,
   "metadata": {},
   "outputs": [
    {
     "data": {
      "text/html": [
       "<div>\n",
       "<style scoped>\n",
       "    .dataframe tbody tr th:only-of-type {\n",
       "        vertical-align: middle;\n",
       "    }\n",
       "\n",
       "    .dataframe tbody tr th {\n",
       "        vertical-align: top;\n",
       "    }\n",
       "\n",
       "    .dataframe thead th {\n",
       "        text-align: right;\n",
       "    }\n",
       "</style>\n",
       "<table border=\"1\" class=\"dataframe\">\n",
       "  <thead>\n",
       "    <tr style=\"text-align: right;\">\n",
       "      <th></th>\n",
       "      <th>typeof(`duration (seconds)`)</th>\n",
       "    </tr>\n",
       "  </thead>\n",
       "  <tbody>\n",
       "    <tr>\n",
       "      <th>0</th>\n",
       "      <td>text</td>\n",
       "    </tr>\n",
       "    <tr>\n",
       "      <th>1</th>\n",
       "      <td>text</td>\n",
       "    </tr>\n",
       "    <tr>\n",
       "      <th>2</th>\n",
       "      <td>text</td>\n",
       "    </tr>\n",
       "    <tr>\n",
       "      <th>3</th>\n",
       "      <td>text</td>\n",
       "    </tr>\n",
       "    <tr>\n",
       "      <th>4</th>\n",
       "      <td>text</td>\n",
       "    </tr>\n",
       "    <tr>\n",
       "      <th>5</th>\n",
       "      <td>text</td>\n",
       "    </tr>\n",
       "    <tr>\n",
       "      <th>6</th>\n",
       "      <td>text</td>\n",
       "    </tr>\n",
       "    <tr>\n",
       "      <th>7</th>\n",
       "      <td>text</td>\n",
       "    </tr>\n",
       "    <tr>\n",
       "      <th>8</th>\n",
       "      <td>text</td>\n",
       "    </tr>\n",
       "    <tr>\n",
       "      <th>9</th>\n",
       "      <td>text</td>\n",
       "    </tr>\n",
       "  </tbody>\n",
       "</table>\n",
       "</div>"
      ],
      "text/plain": [
       "  typeof(`duration (seconds)`)\n",
       "0                         text\n",
       "1                         text\n",
       "2                         text\n",
       "3                         text\n",
       "4                         text\n",
       "5                         text\n",
       "6                         text\n",
       "7                         text\n",
       "8                         text\n",
       "9                         text"
      ]
     },
     "execution_count": 11,
     "metadata": {},
     "output_type": "execute_result"
    }
   ],
   "source": [
    "# Verificando si se hicieron los cambios correctamente\n",
    "consulta_db = \"SELECT typeof(`duration (seconds)`) FROM copia.ufo_table LIMIT 10;\"\n",
    "consulta_db = pd.read_sql_query(consulta_db, conexion)\n",
    "consulta_db"
   ]
  },
  {
   "cell_type": "markdown",
   "metadata": {},
   "source": [
    "#### Como no afectan los cambios a la tabla, vamos a crear una nueva variable o columna duration_seconds y copiar los datos"
   ]
  },
  {
   "cell_type": "code",
   "execution_count": 12,
   "metadata": {},
   "outputs": [],
   "source": [
    "# Creamos una nueva columna\n",
    "nueva_columna = \"ALTER TABLE copia.ufo_table ADD COLUMN duration_seconds REAL;\"\n",
    "\n",
    "conexion.execute(nueva_columna)\n",
    "conexion.commit()"
   ]
  },
  {
   "cell_type": "code",
   "execution_count": 13,
   "metadata": {},
   "outputs": [],
   "source": [
    "# Copiamos los valores de 'duration (seconds)' a duration_seconds\n",
    "copiar_datos = \"\"\"\n",
    "            UPDATE copia.ufo_table\n",
    "            SET duration_seconds = CAST(`duration (seconds)` AS REAL);\n",
    "            \"\"\"\n",
    "conexion.execute(copiar_datos)\n",
    "conexion.commit()"
   ]
  },
  {
   "cell_type": "markdown",
   "metadata": {},
   "source": [
    "### Identificando OUTLIERS para durations_seconds"
   ]
  },
  {
   "cell_type": "code",
   "execution_count": 14,
   "metadata": {},
   "outputs": [
    {
     "name": "stdout",
     "output_type": "stream",
     "text": [
      "Q1: 30.0, Q3: 600.0, IQR: 570.0\n",
      "Límite Inferior: -825.0, Límite Superior: 1455.0\n",
      "Total Outliers:         duration_seconds\n",
      "0                2700.0\n",
      "1                7200.0\n",
      "2                1800.0\n",
      "3                1800.0\n",
      "4                2700.0\n",
      "...                 ...\n",
      "10400            2100.0\n",
      "10401            5400.0\n",
      "10402            7200.0\n",
      "10403           10800.0\n",
      "10404            3600.0\n",
      "\n",
      "[10405 rows x 1 columns]\n"
     ]
    }
   ],
   "source": [
    "df = pd.read_sql_query(\"SELECT duration_seconds FROM copia.ufo_table;\", conexion)\n",
    "\n",
    "q1 = df[\"duration_seconds\"].quantile(0.25)\n",
    "q3 = df[\"duration_seconds\"].quantile(0.75)\n",
    "\n",
    "iqr = q3 - q1\n",
    "\n",
    "limite_inferior = q1 - 1.5 * iqr\n",
    "limite_superior = q3 + 1.5 * iqr\n",
    "\n",
    "print(f\"Q1: {q1}, Q3: {q3}, IQR: {iqr}\")\n",
    "print(f\"Límite Inferior: {limite_inferior}, Límite Superior: {limite_superior}\")\n",
    "\n",
    "query = f\"\"\"\n",
    "    SELECT duration_seconds\n",
    "    FROM copia.ufo_table\n",
    "    WHERE duration_seconds < {limite_inferior} OR duration_seconds > {limite_superior}\n",
    "\"\"\"\n",
    "outliers = pd.read_sql_query(query, conexion)\n",
    "# Mostrar los valores atípicos\n",
    "print(\"Total Outliers: \", outliers)"
   ]
  },
  {
   "cell_type": "markdown",
   "metadata": {},
   "source": [
    "#### Valores atípicos con la diesviación estandar"
   ]
  },
  {
   "cell_type": "code",
   "execution_count": 15,
   "metadata": {},
   "outputs": [
    {
     "name": "stdout",
     "output_type": "stream",
     "text": [
      "Media: 9079.846634475922, Desviación estándar: 622662.6608135117\n",
      "Límite Inferior: -1236245.4749925474, Límite Superior: 1254405.1682614994\n",
      "Total Outliers con Desviación Estándar: 43\n",
      "    duration_seconds\n",
      "0          1814400.0\n",
      "1          1814400.0\n",
      "2          1814400.0\n",
      "3          1814400.0\n",
      "4          1814400.0\n",
      "5          2102400.0\n",
      "6          2102400.0\n",
      "7          2419200.0\n",
      "8          2419200.0\n",
      "9          2631600.0\n",
      "10         2631600.0\n",
      "11         2631600.0\n",
      "12         2631600.0\n",
      "13         2631600.0\n",
      "14         2631600.0\n",
      "15         2631600.0\n",
      "16         2631600.0\n",
      "17         3654000.0\n",
      "18         4838400.0\n",
      "19         5263200.0\n",
      "20         5263200.0\n",
      "21         6120000.0\n",
      "22         6312000.0\n",
      "23         6312000.0\n",
      "24         6312000.0\n",
      "25         6312000.0\n",
      "26         6312000.0\n",
      "27         6312000.0\n",
      "28         6312000.0\n",
      "29         6312000.0\n",
      "30         7894800.0\n",
      "31         9468000.0\n",
      "32         9468000.0\n",
      "33        10526400.0\n",
      "34        10526400.0\n",
      "35        10526400.0\n",
      "36        25248000.0\n",
      "37        52623200.0\n",
      "38        52623200.0\n",
      "39        52623200.0\n",
      "40        66276000.0\n",
      "41        82800000.0\n",
      "42        97836000.0\n"
     ]
    }
   ],
   "source": [
    "# Calcular media y desviación estándar\n",
    "media = df[\"duration_seconds\"].mean()\n",
    "std_dev = df[\"duration_seconds\"].std()\n",
    "\n",
    "# Definir los límites de outliers con 2 desviaciones estándar\n",
    "limite_inferior = media - 2 * std_dev\n",
    "limite_superior = media + 2 * std_dev\n",
    "\n",
    "print(f\"Media: {media}, Desviación estándar: {std_dev}\")\n",
    "print(f\"Límite Inferior: {limite_inferior}, Límite Superior: {limite_superior}\")\n",
    "\n",
    "# Filtrar los outliers usando estos nuevos límites\n",
    "query = f\"\"\"\n",
    "    SELECT duration_seconds\n",
    "    FROM copia.ufo_table\n",
    "    WHERE duration_seconds < {limite_inferior} OR duration_seconds > {limite_superior}\n",
    "    ORDER BY duration_seconds ASC;\n",
    "\"\"\"\n",
    "outliers = pd.read_sql_query(query, conexion)\n",
    "\n",
    "print(f\"Total Outliers con Desviación Estándar: {len(outliers)}\")\n",
    "print(outliers)\n"
   ]
  },
  {
   "cell_type": "markdown",
   "metadata": {},
   "source": [
    "## ¿Cuál método usar?\n",
    "\n",
    "✅ IQR (Rango Intercuartílico):\n",
    "\n",
    "Útil cuando hay datos muy asimétricos o con sesgo.\n",
    "\n",
    "Puede marcar demasiados outliers si la distribución está sesgada.\n",
    "\n",
    "✅ Desviación estándar:\n",
    "\n",
    "Mejor cuando los datos siguen una distribución normal.\n",
    "\n",
    "Menos sensible a extremos que el IQR."
   ]
  },
  {
   "cell_type": "markdown",
   "metadata": {},
   "source": [
    "### ✅ Manejo de Outliers"
   ]
  },
  {
   "cell_type": "code",
   "execution_count": 16,
   "metadata": {},
   "outputs": [],
   "source": [
    "# Vamos a eliminar los outliers\n",
    "eliminar_outliers = \"\"\"\n",
    "                DELETE FROM copia.ufo_table\n",
    "                WHERE duration_seconds < (\n",
    "                    SELECT P25 - 1.5 * IQR FROM (\n",
    "                        SELECT P25, P75, (P75 - P25) AS IQR FROM (\n",
    "                            SELECT \n",
    "                                (SELECT duration_seconds FROM (\n",
    "                                    SELECT duration_seconds, ROW_NUMBER() OVER (ORDER BY duration_seconds) AS fila \n",
    "                                    FROM copia.ufo_table\n",
    "                                ) WHERE fila = (SELECT CAST(0.25 * (COUNT(*) - 1) + 1 AS INT) FROM copia.ufo_table)) AS P25,\n",
    "\n",
    "                                (SELECT duration_seconds FROM (\n",
    "                                    SELECT duration_seconds, ROW_NUMBER() OVER (ORDER BY duration_seconds) AS fila \n",
    "                                    FROM copia.ufo_table\n",
    "                                ) WHERE fila = (SELECT CAST(0.75 * (COUNT(*) - 1) + 1 AS INT) FROM copia.ufo_table)) AS P75\n",
    "                        )\n",
    "                    )\n",
    "                ) \n",
    "                OR \n",
    "                duration_seconds > (\n",
    "                    SELECT P75 + 1.5 * IQR FROM (\n",
    "                        SELECT P25, P75, (P75 - P25) AS IQR FROM (\n",
    "                            SELECT \n",
    "                                (SELECT duration_seconds FROM (\n",
    "                                    SELECT duration_seconds, ROW_NUMBER() OVER (ORDER BY duration_seconds) AS fila \n",
    "                                    FROM copia.ufo_table\n",
    "                                ) WHERE fila = (SELECT CAST(0.25 * (COUNT(*) - 1) + 1 AS INT) FROM copia.ufo_table)) AS P25,\n",
    "\n",
    "                                (SELECT duration_seconds FROM (\n",
    "                                    SELECT duration_seconds, ROW_NUMBER() OVER (ORDER BY duration_seconds) AS fila \n",
    "                                    FROM copia.ufo_table\n",
    "                                ) WHERE fila = (SELECT CAST(0.75 * (COUNT(*) - 1) + 1 AS INT) FROM copia.ufo_table)) AS P75\n",
    "                        )\n",
    "                    )\n",
    "                );\n",
    "                \"\"\"\n",
    "conexion.execute(eliminar_outliers)\n",
    "conexion.commit()"
   ]
  },
  {
   "cell_type": "code",
   "execution_count": 17,
   "metadata": {},
   "outputs": [
    {
     "data": {
      "text/html": [
       "<div>\n",
       "<style scoped>\n",
       "    .dataframe tbody tr th:only-of-type {\n",
       "        vertical-align: middle;\n",
       "    }\n",
       "\n",
       "    .dataframe tbody tr th {\n",
       "        vertical-align: top;\n",
       "    }\n",
       "\n",
       "    .dataframe thead th {\n",
       "        text-align: right;\n",
       "    }\n",
       "</style>\n",
       "<table border=\"1\" class=\"dataframe\">\n",
       "  <thead>\n",
       "    <tr style=\"text-align: right;\">\n",
       "      <th></th>\n",
       "      <th>COUNT(*)</th>\n",
       "    </tr>\n",
       "  </thead>\n",
       "  <tbody>\n",
       "    <tr>\n",
       "      <th>0</th>\n",
       "      <td>69297</td>\n",
       "    </tr>\n",
       "  </tbody>\n",
       "</table>\n",
       "</div>"
      ],
      "text/plain": [
       "   COUNT(*)\n",
       "0     69297"
      ]
     },
     "execution_count": 17,
     "metadata": {},
     "output_type": "execute_result"
    }
   ],
   "source": [
    "total_registros = \"SELECT COUNT(*) FROM copia.ufo_table;\"\n",
    "total_registros = pd.read_sql_query(total_registros, conexion)\n",
    "total_registros"
   ]
  },
  {
   "cell_type": "code",
   "execution_count": 18,
   "metadata": {},
   "outputs": [
    {
     "name": "stdout",
     "output_type": "stream",
     "text": [
      "outliers eliminados correctamente\n"
     ]
    }
   ],
   "source": [
    "# Eliminar outliers para city\n",
    "\n",
    "eliminar_outliers_city = \"\"\"\n",
    "                        DELETE FROM copia.ufo_table\n",
    "                        WHERE city IN (\n",
    "                            SELECT city\n",
    "                            FROM copia.ufo_table\n",
    "                            GROUP BY city\n",
    "                            HAVING COUNT(*) < 2\n",
    "                        );\n",
    "                         \"\"\"\n",
    "conexion.execute(eliminar_outliers_city)\n",
    "conexion.commit()\n",
    "print(\"outliers eliminados correctamente\")"
   ]
  },
  {
   "cell_type": "code",
   "execution_count": 19,
   "metadata": {},
   "outputs": [
    {
     "data": {
      "text/html": [
       "<div>\n",
       "<style scoped>\n",
       "    .dataframe tbody tr th:only-of-type {\n",
       "        vertical-align: middle;\n",
       "    }\n",
       "\n",
       "    .dataframe tbody tr th {\n",
       "        vertical-align: top;\n",
       "    }\n",
       "\n",
       "    .dataframe thead th {\n",
       "        text-align: right;\n",
       "    }\n",
       "</style>\n",
       "<table border=\"1\" class=\"dataframe\">\n",
       "  <thead>\n",
       "    <tr style=\"text-align: right;\">\n",
       "      <th></th>\n",
       "      <th>COUNT(*)</th>\n",
       "    </tr>\n",
       "  </thead>\n",
       "  <tbody>\n",
       "    <tr>\n",
       "      <th>0</th>\n",
       "      <td>57951</td>\n",
       "    </tr>\n",
       "  </tbody>\n",
       "</table>\n",
       "</div>"
      ],
      "text/plain": [
       "   COUNT(*)\n",
       "0     57951"
      ]
     },
     "execution_count": 19,
     "metadata": {},
     "output_type": "execute_result"
    }
   ],
   "source": [
    "total_registros = \"SELECT COUNT(*) FROM copia.ufo_table;\"\n",
    "total_registros = pd.read_sql_query(total_registros, conexion)\n",
    "total_registros"
   ]
  },
  {
   "cell_type": "markdown",
   "metadata": {},
   "source": [
    "# Otros Outliers\n",
    "\n",
    "- Para country no hay outliers.\n",
    "\n",
    "- Para shape no hay outliers."
   ]
  },
  {
   "cell_type": "code",
   "execution_count": null,
   "metadata": {},
   "outputs": [],
   "source": [
    "# Cerrar conexion\n",
    "#conexion.close()"
   ]
  }
 ],
 "metadata": {
  "kernelspec": {
   "display_name": "Northwind_sql",
   "language": "python",
   "name": "python3"
  },
  "language_info": {
   "codemirror_mode": {
    "name": "ipython",
    "version": 3
   },
   "file_extension": ".py",
   "mimetype": "text/x-python",
   "name": "python",
   "nbconvert_exporter": "python",
   "pygments_lexer": "ipython3",
   "version": "3.13.2"
  }
 },
 "nbformat": 4,
 "nbformat_minor": 2
}
