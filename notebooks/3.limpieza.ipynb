{
 "cells": [
  {
   "cell_type": "markdown",
   "metadata": {},
   "source": [
    "## Limpieza de la data"
   ]
  },
  {
   "cell_type": "markdown",
   "metadata": {},
   "source": [
    "#### Primero vamos a elmininar la copia.db"
   ]
  },
  {
   "cell_type": "code",
   "execution_count": 2,
   "metadata": {},
   "outputs": [
    {
     "name": "stdout",
     "output_type": "stream",
     "text": [
      "El archivo de la base de datos no existe.\n"
     ]
    }
   ],
   "source": [
    "import os\n",
    "\n",
    "# Nombre del archivo de la base de datos\n",
    "db_file = \"../data/processed/copia.db\"\n",
    "\n",
    "# Verificar si existe y eliminarlo\n",
    "if os.path.exists(db_file):\n",
    "    os.remove(db_file)\n",
    "    print(\"Base de datos eliminada exitosamente.\")\n",
    "else:\n",
    "    print(\"El archivo de la base de datos no existe.\")"
   ]
  },
  {
   "cell_type": "code",
   "execution_count": 3,
   "metadata": {},
   "outputs": [],
   "source": [
    "import pandas as pd\n",
    "import sqlite3"
   ]
  },
  {
   "cell_type": "code",
   "execution_count": 5,
   "metadata": {},
   "outputs": [
    {
     "name": "stdout",
     "output_type": "stream",
     "text": [
      "✅ Datos cargados\n"
     ]
    },
    {
     "name": "stderr",
     "output_type": "stream",
     "text": [
      "C:\\Users\\harri\\AppData\\Local\\Temp\\ipykernel_1348\\2705268744.py:2: DtypeWarning: Columns (5,9) have mixed types. Specify dtype option on import or set low_memory=False.\n",
      "  df = pd.read_csv(\"../data/raw/ufo_data.csv\")\n"
     ]
    }
   ],
   "source": [
    "# Cargar datos\n",
    "df = pd.read_csv(\"../data/raw/ufo_data.csv\")\n",
    "print(\"✅ Datos cargados\")"
   ]
  },
  {
   "cell_type": "code",
   "execution_count": 6,
   "metadata": {},
   "outputs": [
    {
     "name": "stdout",
     "output_type": "stream",
     "text": [
      "✅ Base de datos creada correctamente...\n"
     ]
    }
   ],
   "source": [
    "# Crearemos una conexión sqlite3\n",
    "conexion = sqlite3.connect(\"../data/raw/ufo_data.db\")\n",
    "\n",
    "# Guardar el dataframe como tabla SQLite\n",
    "df.to_sql(\"ufo_table\", conexion, if_exists=\"replace\", index=False) \n",
    "# El index col se usa para eliminar el Unnamed\n",
    "\n",
    "print(\"✅ Base de datos creada correctamente...\")\n",
    "\n",
    "cursor = conexion.cursor()"
   ]
  },
  {
   "cell_type": "code",
   "execution_count": 7,
   "metadata": {},
   "outputs": [
    {
     "name": "stdout",
     "output_type": "stream",
     "text": [
      "✅ Copia de la BD creada correctamente...\n"
     ]
    }
   ],
   "source": [
    "# Crear una copia de la db\n",
    "copia = \"../data/processed/copia.db\"\n",
    "\n",
    "consulta = f\"\"\"\n",
    "ATTACH DATABASE '{copia}' AS copia;\n",
    "SELECT sql FROM sqlite_master WHERE type='table';\n",
    "\"\"\"\n",
    "cursor.executescript(consulta)\n",
    "\n",
    "# Copiar las tablas a la base de datos de respaldo\n",
    "cursor.execute(\"SELECT name FROM sqlite_master WHERE type='table';\")\n",
    "tablas = cursor.fetchall()\n",
    "\n",
    "for tabla in tablas:\n",
    "    nombre_tabla = tabla[0]\n",
    "    consulta_copia = f\"CREATE TABLE copia.{nombre_tabla} AS SELECT * FROM {nombre_tabla};\"\n",
    "    cursor.execute(consulta_copia)\n",
    "\n",
    "print(\"✅ Copia de la BD creada correctamente...\")\n",
    "# Ya no volver a ejecutar esto\n",
    "# Si lo hacemos primero hay que cerrar la conexión\n",
    "# Y luego hay que eliminar el archivo copia.db"
   ]
  },
  {
   "cell_type": "markdown",
   "metadata": {},
   "source": [
    "Lo que haremos en esta fase:\n",
    "\n",
    "2. Ahora si procedemos hacer la limpieza:\n",
    "\n",
    "    ✅ Datos faltantes (Nulos).\n",
    "    \n",
    "    ✅ Registros duplicados.\n",
    "    \n",
    "    ✅ Formatos inconsistentes (fechas, nombres, números).\n",
    "    \n",
    "    ✅ Valores atípicos (outliers)."
   ]
  },
  {
   "cell_type": "markdown",
   "metadata": {},
   "source": [
    "### ✅ Manejar Datos Faltantes (Nulos)"
   ]
  },
  {
   "cell_type": "code",
   "execution_count": 8,
   "metadata": {},
   "outputs": [
    {
     "name": "stdout",
     "output_type": "stream",
     "text": [
      "Valores reemplazados con éxito\n"
     ]
    }
   ],
   "source": [
    "# Reemplazar Nulos\n",
    "consulta = \"\"\"\n",
    "           UPDATE copia.ufo_table\n",
    "           SET\n",
    "               state = COALESCE(state, \"Desconocido\"),\n",
    "               country = COALESCE(country, \"Desconocido\"),\n",
    "               shape = COALESCE(shape, \"No especificado\"),\n",
    "               comments = COALESCE(comments, \"Sin comentarios\")\n",
    "           \"\"\"\n",
    "conexion.execute(consulta)\n",
    "conexion.commit()\n",
    "print(\"Valores reemplazados con éxito\")"
   ]
  },
  {
   "cell_type": "code",
   "execution_count": 9,
   "metadata": {},
   "outputs": [
    {
     "data": {
      "text/html": [
       "<div>\n",
       "<style scoped>\n",
       "    .dataframe tbody tr th:only-of-type {\n",
       "        vertical-align: middle;\n",
       "    }\n",
       "\n",
       "    .dataframe tbody tr th {\n",
       "        vertical-align: top;\n",
       "    }\n",
       "\n",
       "    .dataframe thead th {\n",
       "        text-align: right;\n",
       "    }\n",
       "</style>\n",
       "<table border=\"1\" class=\"dataframe\">\n",
       "  <thead>\n",
       "    <tr style=\"text-align: right;\">\n",
       "      <th></th>\n",
       "      <th>cid</th>\n",
       "      <th>name</th>\n",
       "      <th>type</th>\n",
       "      <th>notnull</th>\n",
       "      <th>dflt_value</th>\n",
       "      <th>pk</th>\n",
       "    </tr>\n",
       "  </thead>\n",
       "  <tbody>\n",
       "    <tr>\n",
       "      <th>0</th>\n",
       "      <td>0</td>\n",
       "      <td>datetime</td>\n",
       "      <td>TEXT</td>\n",
       "      <td>0</td>\n",
       "      <td>None</td>\n",
       "      <td>0</td>\n",
       "    </tr>\n",
       "    <tr>\n",
       "      <th>1</th>\n",
       "      <td>1</td>\n",
       "      <td>city</td>\n",
       "      <td>TEXT</td>\n",
       "      <td>0</td>\n",
       "      <td>None</td>\n",
       "      <td>0</td>\n",
       "    </tr>\n",
       "    <tr>\n",
       "      <th>2</th>\n",
       "      <td>2</td>\n",
       "      <td>state</td>\n",
       "      <td>TEXT</td>\n",
       "      <td>0</td>\n",
       "      <td>None</td>\n",
       "      <td>0</td>\n",
       "    </tr>\n",
       "    <tr>\n",
       "      <th>3</th>\n",
       "      <td>3</td>\n",
       "      <td>country</td>\n",
       "      <td>TEXT</td>\n",
       "      <td>0</td>\n",
       "      <td>None</td>\n",
       "      <td>0</td>\n",
       "    </tr>\n",
       "    <tr>\n",
       "      <th>4</th>\n",
       "      <td>4</td>\n",
       "      <td>shape</td>\n",
       "      <td>TEXT</td>\n",
       "      <td>0</td>\n",
       "      <td>None</td>\n",
       "      <td>0</td>\n",
       "    </tr>\n",
       "    <tr>\n",
       "      <th>5</th>\n",
       "      <td>5</td>\n",
       "      <td>duration (seconds)</td>\n",
       "      <td>TEXT</td>\n",
       "      <td>0</td>\n",
       "      <td>None</td>\n",
       "      <td>0</td>\n",
       "    </tr>\n",
       "    <tr>\n",
       "      <th>6</th>\n",
       "      <td>6</td>\n",
       "      <td>duration (hours/min)</td>\n",
       "      <td>TEXT</td>\n",
       "      <td>0</td>\n",
       "      <td>None</td>\n",
       "      <td>0</td>\n",
       "    </tr>\n",
       "    <tr>\n",
       "      <th>7</th>\n",
       "      <td>7</td>\n",
       "      <td>comments</td>\n",
       "      <td>TEXT</td>\n",
       "      <td>0</td>\n",
       "      <td>None</td>\n",
       "      <td>0</td>\n",
       "    </tr>\n",
       "    <tr>\n",
       "      <th>8</th>\n",
       "      <td>8</td>\n",
       "      <td>date posted</td>\n",
       "      <td>TEXT</td>\n",
       "      <td>0</td>\n",
       "      <td>None</td>\n",
       "      <td>0</td>\n",
       "    </tr>\n",
       "    <tr>\n",
       "      <th>9</th>\n",
       "      <td>9</td>\n",
       "      <td>latitude</td>\n",
       "      <td>TEXT</td>\n",
       "      <td>0</td>\n",
       "      <td>None</td>\n",
       "      <td>0</td>\n",
       "    </tr>\n",
       "    <tr>\n",
       "      <th>10</th>\n",
       "      <td>10</td>\n",
       "      <td>longitude</td>\n",
       "      <td>REAL</td>\n",
       "      <td>0</td>\n",
       "      <td>None</td>\n",
       "      <td>0</td>\n",
       "    </tr>\n",
       "  </tbody>\n",
       "</table>\n",
       "</div>"
      ],
      "text/plain": [
       "    cid                  name  type  notnull dflt_value  pk\n",
       "0     0              datetime  TEXT        0       None   0\n",
       "1     1                  city  TEXT        0       None   0\n",
       "2     2                 state  TEXT        0       None   0\n",
       "3     3               country  TEXT        0       None   0\n",
       "4     4                 shape  TEXT        0       None   0\n",
       "5     5    duration (seconds)  TEXT        0       None   0\n",
       "6     6  duration (hours/min)  TEXT        0       None   0\n",
       "7     7              comments  TEXT        0       None   0\n",
       "8     8           date posted  TEXT        0       None   0\n",
       "9     9              latitude  TEXT        0       None   0\n",
       "10   10            longitude   REAL        0       None   0"
      ]
     },
     "execution_count": 9,
     "metadata": {},
     "output_type": "execute_result"
    }
   ],
   "source": [
    "nombre_columnas = \"PRAGMA table_info(ufo_table);\"\n",
    "nombre_columnas = pd.read_sql_query(nombre_columnas, conexion)\n",
    "nombre_columnas"
   ]
  },
  {
   "cell_type": "markdown",
   "metadata": {},
   "source": [
    "### ✅ Manejar registros duplicados"
   ]
  },
  {
   "cell_type": "code",
   "execution_count": 10,
   "metadata": {},
   "outputs": [
    {
     "name": "stdout",
     "output_type": "stream",
     "text": [
      "Duplicados eliminados con éxito\n"
     ]
    }
   ],
   "source": [
    "# Eliminar duplicados\n",
    "eliminar = \"\"\"\n",
    "           WITH cte AS (\n",
    "                SELECT ROWID, ROW_NUMBER() OVER(PARTITION BY datetime, city, state, country, shape) AS num_fila\n",
    "                FROM copia.ufo_table\n",
    "           )\n",
    "           DELETE FROM copia.ufo_table\n",
    "           WHERE ROWID IN (\n",
    "               SELECT ROWID FROM cte WHERE num_fila > 1\n",
    "           );\n",
    "           \"\"\"\n",
    "conexion.execute(eliminar)\n",
    "conexion.commit()\n",
    "print(\"Duplicados eliminados con éxito\")"
   ]
  },
  {
   "cell_type": "markdown",
   "metadata": {},
   "source": [
    "### ✅ Normalizar los tipos de datos (Fechas, numeros)"
   ]
  },
  {
   "cell_type": "code",
   "execution_count": null,
   "metadata": {},
   "outputs": [],
   "source": [
    "# Convertir datetime de TEXT a DATETIME(ya que es fecha y hora, si fuera solo fecha sería DATE y si solo fuera hora sería TIME)\n",
    "# Convertir duration seconds de TEXT a REAL\n",
    "formatear = \"\"\"\n",
    "            UPDATE copia.ufo_table\n",
    "            SET `duration (seconds)` = CAST(`duration (seconds)` AS REAL)\n",
    "            ;\n",
    "            \"\"\"\n",
    "conexion.execute(formatear)\n",
    "conexion.commit()\n",
    "print(\"Datos normalizados con éxito\")"
   ]
  },
  {
   "cell_type": "markdown",
   "metadata": {},
   "source": [
    "#### Nos quedamos acá:\n",
    "- Falta Formatear y aplicar Identificación de Ouliers para `duration (seconds)`"
   ]
  },
  {
   "cell_type": "code",
   "execution_count": null,
   "metadata": {},
   "outputs": [],
   "source": [
    "# Cerrar conexion\n",
    "#conexion.close()"
   ]
  }
 ],
 "metadata": {
  "kernelspec": {
   "display_name": "Northwind_sql",
   "language": "python",
   "name": "python3"
  },
  "language_info": {
   "codemirror_mode": {
    "name": "ipython",
    "version": 3
   },
   "file_extension": ".py",
   "mimetype": "text/x-python",
   "name": "python",
   "nbconvert_exporter": "python",
   "pygments_lexer": "ipython3",
   "version": "3.13.2"
  }
 },
 "nbformat": 4,
 "nbformat_minor": 2
}
