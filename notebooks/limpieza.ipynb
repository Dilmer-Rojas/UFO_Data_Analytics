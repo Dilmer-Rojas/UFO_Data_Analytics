{
 "cells": [
  {
   "cell_type": "markdown",
   "metadata": {},
   "source": [
    "## Limpieza de la data"
   ]
  },
  {
   "cell_type": "markdown",
   "metadata": {},
   "source": [
    "Lo que haremos en esta fase:\n",
    "\n",
    "1. Hacer una copia a la base de datos original (siempre hay hacer esto)\n",
    "2. Ahora si procedemos hacer la limpieza:\n",
    "\n",
    "    ✅ Datos faltantes (Nulos).\n",
    "    \n",
    "    ✅ Registros duplicados.\n",
    "    \n",
    "    ✅ Formatos inconsistentes (fechas, nombres, números).\n",
    "    \n",
    "    ✅ Valores atípicos (outliers)."
   ]
  },
  {
   "cell_type": "code",
   "execution_count": 7,
   "metadata": {},
   "outputs": [],
   "source": [
    "# Cargar data\n",
    "import pandas as pd\n",
    "import sqlite3\n",
    "\n",
    "# Creamos una variable y le asignamos la ruta del archivo\n",
    "ruta = \"../data/raw/ufo_data.db\"\n",
    "# Creamos la conexión\n",
    "conexion = sqlite3.connect(ruta)\n",
    "cursor = conexion.cursor()\n"
   ]
  },
  {
   "cell_type": "code",
   "execution_count": 8,
   "metadata": {},
   "outputs": [
    {
     "name": "stdout",
     "output_type": "stream",
     "text": [
      "✅ Copia de la BD creada correctamente...\n"
     ]
    }
   ],
   "source": [
    "# Crear una copia de la db\n",
    "copia = \"../data/processed/copia.db\"\n",
    "\n",
    "consulta = f\"\"\"\n",
    "ATTACH DATABASE '{copia}' AS copia;\n",
    "SELECT sql FROM sqlite_master WHERE type='table';\n",
    "\"\"\"\n",
    "cursor.executescript(consulta)\n",
    "\n",
    "# Copiar las tablas a la base de datos de respaldo\n",
    "cursor.execute(\"SELECT name FROM sqlite_master WHERE type='table';\")\n",
    "tablas = cursor.fetchall()\n",
    "\n",
    "for tabla in tablas:\n",
    "    nombre_tabla = tabla[0]\n",
    "    consulta_copia = f\"CREATE TABLE copia.{nombre_tabla} AS SELECT * FROM {nombre_tabla};\"\n",
    "    cursor.execute(consulta_copia)\n",
    "\n",
    "print(\"✅ Copia de la BD creada correctamente...\")\n"
   ]
  },
  {
   "cell_type": "code",
   "execution_count": null,
   "metadata": {},
   "outputs": [],
   "source": [
    "# Cerrar conexion\n",
    "# conexion.close()"
   ]
  }
 ],
 "metadata": {
  "kernelspec": {
   "display_name": "Northwind_sql",
   "language": "python",
   "name": "python3"
  },
  "language_info": {
   "codemirror_mode": {
    "name": "ipython",
    "version": 3
   },
   "file_extension": ".py",
   "mimetype": "text/x-python",
   "name": "python",
   "nbconvert_exporter": "python",
   "pygments_lexer": "ipython3",
   "version": "3.13.2"
  }
 },
 "nbformat": 4,
 "nbformat_minor": 2
}
